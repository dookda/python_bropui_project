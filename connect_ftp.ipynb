{
    "cells": [
        {
            "cell_type": "code",
            "execution_count": 44,
            "source": [
                "# import lib\n",
                "import pandas as pd\n",
                "import numpy as np\n",
                "import ftplib\n",
                "import csv\n",
                "import psycopg2 as pg"
            ],
            "outputs": [],
            "metadata": {}
        },
        {
            "cell_type": "code",
            "execution_count": 41,
            "source": [
                "# connect ftp\n",
                "ftphost = '203.154.140.35'\n",
                "ftp = ftplib.FTP(ftphost, 'Etc', 'Paris1234')\n",
                "ftpdir = '/UM6972/CSV/'\n",
                "ftp.cwd(ftpdir)"
            ],
            "outputs": [
                {
                    "output_type": "execute_result",
                    "data": {
                        "text/plain": [
                            "'250 CWD command successful.'"
                        ]
                    },
                    "metadata": {},
                    "execution_count": 41
                }
            ],
            "metadata": {}
        },
        {
            "cell_type": "code",
            "execution_count": 42,
            "source": [
                "# get the last file and write to file\n",
                "files = ftp.nlst()\n",
                "a = len(files)\n",
                "f = files[int(a-1)]\n",
                "fname = r'/Users/sakdahomhuan/Dev/python_bropui_project/csv/'+f\n",
                "ftp.retrbinary(\"RETR \"+f, open(fname, 'wb').write)\n",
                "print(f)"
            ],
            "outputs": [
                {
                    "output_type": "stream",
                    "name": "stdout",
                    "text": [
                        "UM6972_20210904074235.IDFW.csv\n"
                    ]
                }
            ],
            "metadata": {}
        },
        {
            "cell_type": "code",
            "execution_count": 56,
            "source": [
                "with open(fname) as fd:\n",
                "    reader=csv.reader(fd)\n",
                "    rows=[r for r in reader]\n",
                "    # print(rows[:58])\n",
                "    \n",
                "    for r in rows[:58]:\n",
                "        print(r[0])\n",
                "        # sql = \"UPDATE peakcollection SET \".format()\n",
                "    # for x in interestingrows:\n",
                "    #     x = x.strip()\n",
                "    #     x = x.split(\",\")\n",
                "    #     print(x)"
            ],
            "outputs": [
                {
                    "output_type": "stream",
                    "name": "stdout",
                    "text": [
                        "EventType\n",
                        "SampleRate\n",
                        "Channel\n",
                        "Channel\n",
                        "Channel\n",
                        "Units\n",
                        "EventTime\n",
                        "EventDate\n",
                        "RecordStopMode\n",
                        "Pre-triggerLength\n",
                        "RecordTime\n",
                        "AutoStopTime\n",
                        "Trigger\n",
                        "GeoTriggerLevel\n",
                        "GeoRange\n",
                        "Operator\n",
                        "Setup\n",
                        "TitleNote1\n",
                        "TitleString1\n",
                        "TitleNote2\n",
                        "TitleString2\n",
                        "TitleNote3\n",
                        "TitleString3\n",
                        "TitleNote4\n",
                        "TitleString4\n",
                        "PostEventNote\n",
                        "SerialNumber\n",
                        "Version\n",
                        "FileName\n",
                        "BatteryLevel\n",
                        "Calibration\n",
                        "USBSensorSupport\n",
                        "TranPPV\n",
                        "VertPPV\n",
                        "LongPPV\n",
                        "TranPPVPonderated\n",
                        "VertPPVPonderated\n",
                        "LongPPVPonderated\n",
                        "TranPPVdB\n",
                        "VertPPVdB\n",
                        "LongPPVdB\n",
                        "TranZCFreq\n",
                        "VertZCFreq\n",
                        "LongZCFreq\n",
                        "TranTimeofPeak\n",
                        "VertTimeofPeak\n",
                        "LongTimeofPeak\n",
                        "TranPeakAcceleration\n",
                        "VertPeakAcceleration\n",
                        "LongPeakAcceleration\n",
                        "TranPeakDisplacement\n",
                        "VertPeakDisplacement\n",
                        "LongPeakDisplacement\n",
                        "PeakVectorSum\n",
                        "PeakVectorSumTimeSum\n",
                        "TranTestResults\n",
                        "VertTestResults\n",
                        "LongTestResults\n"
                    ]
                }
            ],
            "metadata": {}
        },
        {
            "cell_type": "code",
            "execution_count": 32,
            "source": [
                "# read csv with pandas\n",
                "df = pd.read_csv(fname, sep=\"\\t\", header=None)\n",
                "print(df)"
            ],
            "outputs": [
                {
                    "output_type": "stream",
                    "name": "stdout",
                    "text": [
                        "                              0\n",
                        "0     EventType,\"Full Waveform\"\n",
                        "1         SampleRate,\"2048 sps\"\n",
                        "2                Channel,\"Tran\"\n",
                        "3                Channel,\"Vert\"\n",
                        "4                Channel,\"Long\"\n",
                        "...                         ...\n",
                        "6710   -0.410,\"-0.394\",\"-0.300\"\n",
                        "6711   -0.410,\"-0.654\",\"-0.292\"\n",
                        "6712   -0.252,\"-0.709\",\"-0.126\"\n",
                        "6713    -0.095,\"-0.757\",\"0.024\"\n",
                        "6714     0.000,\"-0.741\",\"0.087\"\n",
                        "\n",
                        "[6715 rows x 1 columns]\n"
                    ]
                }
            ],
            "metadata": {}
        }
    ],
    "metadata": {
        "orig_nbformat": 4,
        "language_info": {
            "name": "python",
            "version": "3.9.1",
            "mimetype": "text/x-python",
            "codemirror_mode": {
                "name": "ipython",
                "version": 3
            },
            "pygments_lexer": "ipython3",
            "nbconvert_exporter": "python",
            "file_extension": ".py"
        },
        "kernelspec": {
            "name": "python3",
            "display_name": "Python 3.9.1 64-bit"
        },
        "interpreter": {
            "hash": "aee8b7b246df8f9039afb4144a1f6fd8d2ca17a180786b69acc140d282b71a49"
        }
    },
    "nbformat": 4,
    "nbformat_minor": 2
}