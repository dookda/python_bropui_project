{
    "cells": [
        {
            "cell_type": "code",
            "execution_count": 23,
            "source": [
                "# import lib\n",
                "import pandas as pd\n",
                "import numpy as np\n",
                "import ftplib"
            ],
            "outputs": [],
            "metadata": {}
        },
        {
            "cell_type": "code",
            "execution_count": 24,
            "source": [
                "# connect ftp\n",
                "ftphost = '203.154.140.35'\n",
                "ftp = ftplib.FTP(ftphost, 'Etc', 'Paris1234')\n",
                "ftpdir = '/UM6972/CSV/'\n",
                "ftp.cwd(ftpdir)"
            ],
            "outputs": [
                {
                    "output_type": "execute_result",
                    "data": {
                        "text/plain": [
                            "'250 CWD command successful.'"
                        ]
                    },
                    "metadata": {},
                    "execution_count": 24
                }
            ],
            "metadata": {}
        },
        {
            "cell_type": "code",
            "execution_count": 25,
            "source": [
                "# get the last file and write to file\n",
                "files = ftp.nlst()\n",
                "a = len(files)\n",
                "f = files[int(a-1)]\n",
                "fname = r'/Users/sakdahomhuan/Dev/python_bropui_project/csv/'+f\n",
                "ftp.retrbinary(\"RETR \"+f, open(fname, 'wb').write)\n",
                "print(f)"
            ],
            "outputs": [
                {
                    "output_type": "stream",
                    "name": "stdout",
                    "text": [
                        "UM6972_20210903163533.IDFW.csv\n"
                    ]
                }
            ],
            "metadata": {}
        },
        {
            "cell_type": "code",
            "execution_count": 27,
            "source": [
                "# read csv with pandas\n",
                "df = pd.read_csv(fname, sep=\"\\t\", header=None)\n",
                "print(df)"
            ],
            "outputs": [
                {
                    "output_type": "stream",
                    "name": "stdout",
                    "text": [
                        "                              0\n",
                        "0     EventType,\"Full Waveform\"\n",
                        "1         SampleRate,\"2048 sps\"\n",
                        "2                Channel,\"Tran\"\n",
                        "3                Channel,\"Vert\"\n",
                        "4                Channel,\"Long\"\n",
                        "...                         ...\n",
                        "6710     0.016,\"0.276\",\"-0.008\"\n",
                        "6711     -0.016,\"0.276\",\"0.008\"\n",
                        "6712      0.000,\"0.276\",\"0.000\"\n",
                        "6713    -0.197,\"0.166\",\"-0.244\"\n",
                        "6714   -0.378,\"-0.016\",\"-0.449\"\n",
                        "\n",
                        "[6715 rows x 1 columns]\n"
                    ]
                }
            ],
            "metadata": {}
        }
    ],
    "metadata": {
        "orig_nbformat": 4,
        "language_info": {
            "name": "python",
            "version": "3.9.1",
            "mimetype": "text/x-python",
            "codemirror_mode": {
                "name": "ipython",
                "version": 3
            },
            "pygments_lexer": "ipython3",
            "nbconvert_exporter": "python",
            "file_extension": ".py"
        },
        "kernelspec": {
            "name": "python3",
            "display_name": "Python 3.9.1 64-bit"
        },
        "interpreter": {
            "hash": "aee8b7b246df8f9039afb4144a1f6fd8d2ca17a180786b69acc140d282b71a49"
        }
    },
    "nbformat": 4,
    "nbformat_minor": 2
}