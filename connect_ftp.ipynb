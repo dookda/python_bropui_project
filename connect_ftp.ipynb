{
    "cells": [
        {
            "cell_type": "code",
            "execution_count": 12,
            "source": [
                "# import lib\n",
                "import pandas as pd\n",
                "import numpy as np\n",
                "import ftplib\n",
                "import csv\n",
                "import psycopg2 as pg2"
            ],
            "outputs": [],
            "metadata": {}
        },
        {
            "cell_type": "code",
            "execution_count": 13,
            "source": [
                "conn = pg2.connect(user=\"postgres\",password=\"Pgis@rti2dss@2020\", host=\"119.59.125.134\", database=\"envidb\")\n",
                "cur = conn.cursor()"
            ],
            "outputs": [],
            "metadata": {}
        },
        {
            "cell_type": "code",
            "execution_count": 19,
            "source": [
                "# connect ftp\n",
                "ftphost = '203.154.140.35'\n",
                "ftp = ftplib.FTP(ftphost, 'Etc', 'Paris1234')\n",
                "ftpdir = '/UM6972/CSV/'\n",
                "ftp.cwd(ftpdir)\n",
                "files = ftp.nlst()\n",
                "print(len(files))"
            ],
            "outputs": [
                {
                    "output_type": "stream",
                    "name": "stdout",
                    "text": [
                        "2\n"
                    ]
                }
            ],
            "metadata": {}
        },
        {
            "cell_type": "code",
            "execution_count": 11,
            "source": [
                "# check stock\n",
                "cur.execute(\"SELECT filename FROM vibrate\")\n",
                "rows = cur.fetchall()\n",
                "savedfile = []\n",
                "for r in rows:\n",
                "    savedfile.append(r[0])\n",
                "# print(savedfile)"
            ],
            "outputs": [],
            "metadata": {}
        },
        {
            "cell_type": "code",
            "execution_count": 8,
            "source": [
                "def insertData(fname):\n",
                "    dat={}\n",
                "    with open(fname) as fd:\n",
                "        reader=csv.reader(fd)\n",
                "        rows=[r for r in reader]\n",
                "        \n",
                "        for r in rows[:58]:\n",
                "            x=r[1].split(\" \")\n",
                "            dat[r[0].lower()]=x[0]\n",
                "\n",
                "    sql = f'''INSERT INTO vibrate(\n",
                "            ts, filename, \n",
                "            tranppv,\n",
                "            vertppv,\n",
                "            longppv,\n",
                "            tranppvponderated,\n",
                "            vertppvponderated,\n",
                "            longppvponderated,\n",
                "            tranppvdb,\n",
                "            vertppvdb,\n",
                "            longppvdb\n",
                "        )VALUES(\n",
                "            '{dat[\"eventdate\"]} {dat[\"eventtime\"]}', '{f}', \n",
                "            {dat[\"tranppv\"].replace(\"<\",\"\")},\n",
                "            {dat[\"vertppv\"].replace(\"<\",\"\")},\n",
                "            {dat[\"longppv\"].replace(\"<\",\"\")},\n",
                "            {dat[\"tranppvponderated\"]},\n",
                "            {dat[\"vertppvponderated\"]},\n",
                "            {dat[\"longppvponderated\"]},\n",
                "            {dat[\"tranppvdb\"]},\n",
                "            {dat[\"vertppvdb\"]},\n",
                "            {dat[\"longppvdb\"]}\n",
                "        )'''\n",
                "    print(sql)\n",
                "\n",
                "    cur.execute(sql)"
            ],
            "outputs": [],
            "metadata": {}
        },
        {
            "cell_type": "code",
            "execution_count": 9,
            "source": [
                "def loadCSV(f):\n",
                "    fname = r'/Users/sakdahomhuan/Dev/python_bropui_project/csv/'+f\n",
                "    ftp.retrbinary(\"RETR \"+f, open(fname, 'wb').write)\n",
                "    print(f)\n",
                "    insertData(fname)"
            ],
            "outputs": [],
            "metadata": {}
        },
        {
            "cell_type": "code",
            "execution_count": 18,
            "source": [
                "# retrieve file\n",
                "a = len(files)\n",
                "print(a)\n",
                "# f = files[int(a-1)]\n",
                "\n",
                "# for f in files:\n",
                "#     if(f not in savedfile):\n",
                "#         loadCSV(f)\n",
                "#         print(f)\n",
                "#     else:\n",
                "#         print(\"already file\")\n",
                "#         print(f)"
            ],
            "outputs": [
                {
                    "output_type": "stream",
                    "name": "stdout",
                    "text": [
                        "2\n"
                    ]
                }
            ],
            "metadata": {}
        },
        {
            "cell_type": "code",
            "execution_count": null,
            "source": [
                "# read csv with pandas\n",
                "# df = pd.read_csv(fname, sep=\"\\t\", header=None)\n",
                "# print(df)\n",
                "\n",
                "# conn.commit()\n",
                "# cur.close()\n",
                "# conn.close()"
            ],
            "outputs": [],
            "metadata": {}
        },
        {
            "cell_type": "code",
            "execution_count": null,
            "source": [
                "\n",
                "a,b = 8,7\n",
                "x = a > b and 10 or 11\n",
                "print(x)"
            ],
            "outputs": [
                {
                    "output_type": "stream",
                    "name": "stdout",
                    "text": [
                        "10\n"
                    ]
                }
            ],
            "metadata": {}
        },
        {
            "cell_type": "code",
            "execution_count": 22,
            "source": [
                "import xmltodict\n",
                "import pprint\n",
                "import json\n",
                "\n",
                "my_xml = \"\"\"\n",
                "    <audience>\n",
                "      <id what=\"attribute\">123</id>\n",
                "      <name>Shubham</name>\n",
                "    </audience>\n",
                "\"\"\"\n",
                "my_dict = xmltodict.parse(my_xml)\n",
                "print(json.dumps(my_dict))"
            ],
            "outputs": [
                {
                    "output_type": "stream",
                    "name": "stdout",
                    "text": [
                        "{\"audience\": {\"id\": {\"@what\": \"attribute\", \"#text\": \"123\"}, \"name\": \"Shubham\"}}\n"
                    ]
                }
            ],
            "metadata": {}
        }
    ],
    "metadata": {
        "orig_nbformat": 4,
        "language_info": {
            "name": "python",
            "version": "3.9.1",
            "mimetype": "text/x-python",
            "codemirror_mode": {
                "name": "ipython",
                "version": 3
            },
            "pygments_lexer": "ipython3",
            "nbconvert_exporter": "python",
            "file_extension": ".py"
        },
        "kernelspec": {
            "name": "python3",
            "display_name": "Python 3.9.1 64-bit"
        },
        "interpreter": {
            "hash": "aee8b7b246df8f9039afb4144a1f6fd8d2ca17a180786b69acc140d282b71a49"
        }
    },
    "nbformat": 4,
    "nbformat_minor": 2
}